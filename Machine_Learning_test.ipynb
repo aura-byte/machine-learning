{
  "nbformat": 4,
  "nbformat_minor": 0,
  "metadata": {
    "colab": {
      "name": "Machine-Learning-test.ipynb",
      "provenance": [],
      "collapsed_sections": [],
      "mount_file_id": "1hBGiGEhztNCeA6ZgMRSW7MatIATHNYnO",
      "authorship_tag": "ABX9TyPCzoHFy0/f6tDsIPBh9E9j",
      "include_colab_link": true
    },
    "kernelspec": {
      "name": "python3",
      "display_name": "Python 3"
    },
    "language_info": {
      "name": "python"
    }
  },
  "cells": [
    {
      "cell_type": "markdown",
      "metadata": {
        "id": "view-in-github",
        "colab_type": "text"
      },
      "source": [
        "<a href=\"https://colab.research.google.com/github/aura-byte/machine-learning/blob/main/Machine_Learning_test.ipynb\" target=\"_parent\"><img src=\"https://colab.research.google.com/assets/colab-badge.svg\" alt=\"Open In Colab\"/></a>"
      ]
    },
    {
      "cell_type": "code",
      "execution_count": null,
      "metadata": {
        "id": "3b5RL-tl3F46"
      },
      "outputs": [],
      "source": [
        "from google.colab import drive\n",
        "drive.mount(\"/content/gdrive\")\n",
        "!unzip gdrive/MyDrive/Project-Data/test1.zip\n",
        "!unzip gdrive/MyDrive/Project-Data/train.zip\n",
        "drive.flush_and_unmount()"
      ]
    },
    {
      "cell_type": "code",
      "source": [
        "!zip -r model.zip saved_model\n",
        "from google.colab import files\n",
        "files.download(\"model.zip\")"
      ],
      "metadata": {
        "colab": {
          "base_uri": "https://localhost:8080/",
          "height": 156
        },
        "id": "e_hzEXWxQlZo",
        "outputId": "a188119b-03e5-435f-9e1f-cee4b486987f"
      },
      "execution_count": 6,
      "outputs": [
        {
          "output_type": "stream",
          "name": "stdout",
          "text": [
            "  adding: saved_model/ (stored 0%)\n",
            "  adding: saved_model/my_model/ (stored 0%)\n",
            "  adding: saved_model/my_model/saved_model.pb (deflated 87%)\n",
            "  adding: saved_model/my_model/assets/ (stored 0%)\n",
            "  adding: saved_model/my_model/keras_metadata.pb (deflated 88%)\n",
            "  adding: saved_model/my_model/variables/ (stored 0%)\n",
            "  adding: saved_model/my_model/variables/variables.index (deflated 61%)\n",
            "  adding: saved_model/my_model/variables/variables.data-00000-of-00001 (deflated 26%)\n"
          ]
        },
        {
          "output_type": "display_data",
          "data": {
            "text/plain": [
              "<IPython.core.display.Javascript object>"
            ],
            "application/javascript": [
              "\n",
              "    async function download(id, filename, size) {\n",
              "      if (!google.colab.kernel.accessAllowed) {\n",
              "        return;\n",
              "      }\n",
              "      const div = document.createElement('div');\n",
              "      const label = document.createElement('label');\n",
              "      label.textContent = `Downloading \"${filename}\": `;\n",
              "      div.appendChild(label);\n",
              "      const progress = document.createElement('progress');\n",
              "      progress.max = size;\n",
              "      div.appendChild(progress);\n",
              "      document.body.appendChild(div);\n",
              "\n",
              "      const buffers = [];\n",
              "      let downloaded = 0;\n",
              "\n",
              "      const channel = await google.colab.kernel.comms.open(id);\n",
              "      // Send a message to notify the kernel that we're ready.\n",
              "      channel.send({})\n",
              "\n",
              "      for await (const message of channel.messages) {\n",
              "        // Send a message to notify the kernel that we're ready.\n",
              "        channel.send({})\n",
              "        if (message.buffers) {\n",
              "          for (const buffer of message.buffers) {\n",
              "            buffers.push(buffer);\n",
              "            downloaded += buffer.byteLength;\n",
              "            progress.value = downloaded;\n",
              "          }\n",
              "        }\n",
              "      }\n",
              "      const blob = new Blob(buffers, {type: 'application/binary'});\n",
              "      const a = document.createElement('a');\n",
              "      a.href = window.URL.createObjectURL(blob);\n",
              "      a.download = filename;\n",
              "      div.appendChild(a);\n",
              "      a.click();\n",
              "      div.remove();\n",
              "    }\n",
              "  "
            ]
          },
          "metadata": {}
        },
        {
          "output_type": "display_data",
          "data": {
            "text/plain": [
              "<IPython.core.display.Javascript object>"
            ],
            "application/javascript": [
              "download(\"download_9573eea0-d9ff-47f2-b369-1dc873b84f82\", \"model.zip\", 241887507)"
            ]
          },
          "metadata": {}
        }
      ]
    },
    {
      "cell_type": "code",
      "source": [
        "# organize dataset into a useful structure\n",
        "from os import makedirs\n",
        "from os import listdir\n",
        "from shutil import copyfile\n",
        "from random import seed\n",
        "from random import random\n",
        "# create directories\n",
        "dataset_home = 'dataset_dogs_vs_cats/'\n",
        "subdirs = ['train/', 'test/']\n",
        "for subdir in subdirs:\n",
        "    # create label subdirectories\n",
        "    labeldirs = ['dogs/', 'cats/']\n",
        "    for labldir in labeldirs:\n",
        "        newdir = dataset_home + subdir + labldir\n",
        "        makedirs(newdir, exist_ok=True)\n",
        "# seed random number generator\n",
        "seed(1)\n",
        "# define ratio of pictures to use for validation\n",
        "val_ratio = 0.25\n",
        "# copy training dataset images into subdirectories\n",
        "src_directory = 'train/'\n",
        "for file in listdir(src_directory):\n",
        "    src = src_directory + '/' + file\n",
        "    dst_dir = 'train/'\n",
        "    if random() < val_ratio:\n",
        "        dst_dir = 'test/'\n",
        "    if file.startswith('cat'):\n",
        "        dst = dataset_home + dst_dir + 'cats/'  + file\n",
        "        copyfile(src, dst)\n",
        "    elif file.startswith('dog'):\n",
        "        dst = dataset_home + dst_dir + 'dogs/'  + file\n",
        "        copyfile(src, dst)"
      ],
      "metadata": {
        "id": "9PuT77IhTV8G"
      },
      "execution_count": 2,
      "outputs": []
    },
    {
      "cell_type": "code",
      "source": [
        "import tensorflow\n",
        "import sys\n",
        "from matplotlib import pyplot \n",
        "from tensorflow import keras\n",
        "from keras import layers\n",
        "from keras import Sequential\n",
        "\n",
        "\n",
        "DATASET_LOCATION = \"dataset_dogs_vs_cats/\"\n",
        "CATS_OUTPUT = 0.0\n",
        "DOGS_OUTPUT = 1.0\n",
        "\n",
        "# plot diagnostic learning curves\n",
        "def summarize_diagnostics(history):\n",
        "\t# plot loss\n",
        "\tpyplot.subplot(211)\n",
        "\tpyplot.title('Cross Entropy Loss')\n",
        "\tpyplot.plot(history.history['loss'], color='blue', label='train')\n",
        "\tpyplot.plot(history.history['val_loss'], color='orange', label='test')\n",
        "\t# plot accuracy\n",
        "\tpyplot.subplot(212)\n",
        "\tpyplot.title('Classification Accuracy')\n",
        "\tpyplot.plot(history.history['accuracy'], color='blue', label='train')\n",
        "\tpyplot.plot(history.history['val_accuracy'], color='orange', label='test')\n",
        "\t# save plot to file\n",
        "\tfilename = sys.argv[0].split('/')[-1]\n",
        "\tpyplot.savefig(filename + '_plot.png')\n",
        "\tpyplot.close()\n",
        "\n",
        "\n",
        "def create_model():\n",
        "    \"\"\"Function will create a model and will return it.\"\"\"\n",
        "    model = Sequential([\n",
        "        layers.Conv2D(32, (3,3), activation='relu', kernel_initializer='he_uniform', padding='same', input_shape=(200, 200, 3)),\n",
        "        layers.MaxPooling2D((2,2)),\n",
        "        layers.Flatten(),\n",
        "        layers.Dense(128, activation='relu', kernel_initializer='he_uniform'),\n",
        "        layers.Dense(1, activation='sigmoid')\n",
        "        ])\n",
        "        \n",
        "    opt = keras.optimizers.SGD(learning_rate=0.001, momentum=0.9)\n",
        "    model.compile(optimizer=opt, loss='binary_crossentropy', metrics=['accuracy'])\n",
        "    return model\n",
        "\n",
        "def main():\n",
        "    model = create_model()\n",
        "    # create data generator - scaling the pixels between 0 and 1\n",
        "    datagen = keras.preprocessing.image.ImageDataGenerator(rescale=1.0/255.0)\n",
        "    # prepare iterators\n",
        "    train_it = datagen.flow_from_directory(DATASET_LOCATION + 'train/', class_mode='binary', batch_size=64, target_size=(200, 200))\n",
        "    test_it = datagen.flow_from_directory(DATASET_LOCATION + 'test/', class_mode='binary', batch_size=64, target_size=(200, 200))\n",
        "    #Save the weights using the `checkpoint_path` format\n",
        "    #fit the model:\n",
        "    history = model.fit(\n",
        "        train_it,\n",
        "        steps_per_epoch=len(train_it),\n",
        "        validation_data=test_it,\n",
        "        validation_steps=len(test_it), \n",
        "        epochs=20)\n",
        "    # evaluate model\n",
        "    _, acc = model.evaluate(test_it, steps=len(test_it), verbose=0)\n",
        "    print('> %.3f' % (acc * 100.0))\n",
        "    summarize_diagnostics(history)\n",
        "    model.save('saved_model/my_model')\n",
        "\n",
        "\n",
        "if __name__ == \"__main__\":\n",
        "    main()"
      ],
      "metadata": {
        "colab": {
          "base_uri": "https://localhost:8080/"
        },
        "id": "S5HJ0YvwRQKb",
        "outputId": "aaa47a14-6bc8-4ddc-b401-b9b1892552c4"
      },
      "execution_count": 4,
      "outputs": [
        {
          "output_type": "stream",
          "name": "stdout",
          "text": [
            "Found 18697 images belonging to 2 classes.\n",
            "Found 6303 images belonging to 2 classes.\n",
            "Epoch 1/20\n",
            "293/293 [==============================] - 472s 2s/step - loss: 0.6901 - accuracy: 0.5664 - val_loss: 0.6586 - val_accuracy: 0.5984\n",
            "Epoch 2/20\n",
            "293/293 [==============================] - 451s 2s/step - loss: 0.6441 - accuracy: 0.6189 - val_loss: 0.6585 - val_accuracy: 0.6088\n",
            "Epoch 3/20\n",
            "293/293 [==============================] - 454s 2s/step - loss: 0.6212 - accuracy: 0.6465 - val_loss: 0.6095 - val_accuracy: 0.6576\n",
            "Epoch 4/20\n",
            "293/293 [==============================] - 452s 2s/step - loss: 0.6084 - accuracy: 0.6575 - val_loss: 0.6094 - val_accuracy: 0.6683\n",
            "Epoch 5/20\n",
            "293/293 [==============================] - 451s 2s/step - loss: 0.6008 - accuracy: 0.6659 - val_loss: 0.6015 - val_accuracy: 0.6744\n",
            "Epoch 6/20\n",
            "293/293 [==============================] - 449s 2s/step - loss: 0.5750 - accuracy: 0.6896 - val_loss: 0.5807 - val_accuracy: 0.6868\n",
            "Epoch 7/20\n",
            "293/293 [==============================] - 446s 2s/step - loss: 0.5593 - accuracy: 0.7017 - val_loss: 0.5846 - val_accuracy: 0.6890\n",
            "Epoch 8/20\n",
            "293/293 [==============================] - 454s 2s/step - loss: 0.5471 - accuracy: 0.7189 - val_loss: 0.5678 - val_accuracy: 0.7063\n",
            "Epoch 9/20\n",
            "293/293 [==============================] - 448s 2s/step - loss: 0.5208 - accuracy: 0.7388 - val_loss: 0.5811 - val_accuracy: 0.6955\n",
            "Epoch 10/20\n",
            "293/293 [==============================] - 450s 2s/step - loss: 0.4915 - accuracy: 0.7614 - val_loss: 0.5532 - val_accuracy: 0.7181\n",
            "Epoch 11/20\n",
            "293/293 [==============================] - 453s 2s/step - loss: 0.4632 - accuracy: 0.7816 - val_loss: 0.5406 - val_accuracy: 0.7246\n",
            "Epoch 12/20\n",
            "293/293 [==============================] - 476s 2s/step - loss: 0.4398 - accuracy: 0.7965 - val_loss: 0.5500 - val_accuracy: 0.7257\n",
            "Epoch 13/20\n",
            "293/293 [==============================] - 480s 2s/step - loss: 0.4107 - accuracy: 0.8143 - val_loss: 0.5396 - val_accuracy: 0.7279\n",
            "Epoch 14/20\n",
            "293/293 [==============================] - 483s 2s/step - loss: 0.3756 - accuracy: 0.8382 - val_loss: 0.5481 - val_accuracy: 0.7273\n",
            "Epoch 15/20\n",
            "293/293 [==============================] - 473s 2s/step - loss: 0.3451 - accuracy: 0.8549 - val_loss: 0.5471 - val_accuracy: 0.7387\n",
            "Epoch 16/20\n",
            "293/293 [==============================] - 486s 2s/step - loss: 0.3106 - accuracy: 0.8756 - val_loss: 0.5504 - val_accuracy: 0.7428\n",
            "Epoch 17/20\n",
            "293/293 [==============================] - 473s 2s/step - loss: 0.2787 - accuracy: 0.8896 - val_loss: 0.5539 - val_accuracy: 0.7457\n",
            "Epoch 18/20\n",
            "293/293 [==============================] - 471s 2s/step - loss: 0.2457 - accuracy: 0.9084 - val_loss: 0.5741 - val_accuracy: 0.7389\n",
            "Epoch 19/20\n",
            "293/293 [==============================] - 470s 2s/step - loss: 0.2109 - accuracy: 0.9283 - val_loss: 0.5918 - val_accuracy: 0.7441\n",
            "Epoch 20/20\n",
            "293/293 [==============================] - 479s 2s/step - loss: 0.1822 - accuracy: 0.9412 - val_loss: 0.6978 - val_accuracy: 0.7108\n",
            "> 71.077\n"
          ]
        }
      ]
    }
  ]
}